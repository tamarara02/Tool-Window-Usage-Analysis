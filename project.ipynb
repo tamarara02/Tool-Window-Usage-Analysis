{
 "cells": [
  {
   "cell_type": "markdown",
   "id": "9954294c-e3c0-435c-aceb-137c316770c9",
   "metadata": {},
   "source": [
    "# JetBrains IDE Tool Window Usage Analysis\n",
    "\n",
    "In this notebook, we analyze usage data for a JetBrains IDE tool window. The dataset records events when the tool window was **opened** or **closed**. \n",
    "\n",
    "Our main goal is to investigate whether the **duration** of a tool window being open differs depending on whether it was triggered **manually** by the user or **automatically** by the IDE.\n",
    "\n",
    "### Analysis Steps\n",
    "We will follow these steps:\n",
    "\n",
    "1. Load and explore the dataset  \n",
    "2. Clean and prepare the data  \n",
    "3. Reconstruct open/close sessions  \n",
    "4. Filter outliers\n",
    "5. Compare manual vs automatic patterns  \n",
    "6. Visualize results and summarize findings\n"
   ]
  },
  {
   "cell_type": "code",
   "execution_count": 1,
   "id": "initial_id",
   "metadata": {
    "ExecuteTime": {
     "end_time": "2025-10-08T14:46:19.495810Z",
     "start_time": "2025-10-08T14:46:07.041275Z"
    }
   },
   "outputs": [
    {
     "data": {
      "text/html": [
       "<div>\n",
       "<style scoped>\n",
       "    .dataframe tbody tr th:only-of-type {\n",
       "        vertical-align: middle;\n",
       "    }\n",
       "\n",
       "    .dataframe tbody tr th {\n",
       "        vertical-align: top;\n",
       "    }\n",
       "\n",
       "    .dataframe thead th {\n",
       "        text-align: right;\n",
       "    }\n",
       "</style>\n",
       "<table border=\"1\" class=\"dataframe\">\n",
       "  <thead>\n",
       "    <tr style=\"text-align: right;\">\n",
       "      <th></th>\n",
       "      <th>timestamp</th>\n",
       "      <th>event</th>\n",
       "      <th>open_type</th>\n",
       "      <th>user_id</th>\n",
       "    </tr>\n",
       "  </thead>\n",
       "  <tbody>\n",
       "    <tr>\n",
       "      <th>0</th>\n",
       "      <td>1752250204033</td>\n",
       "      <td>opened</td>\n",
       "      <td>manual</td>\n",
       "      <td>1</td>\n",
       "    </tr>\n",
       "    <tr>\n",
       "      <th>1</th>\n",
       "      <td>1751836141616</td>\n",
       "      <td>closed</td>\n",
       "      <td>NaN</td>\n",
       "      <td>2</td>\n",
       "    </tr>\n",
       "    <tr>\n",
       "      <th>2</th>\n",
       "      <td>1752304475081</td>\n",
       "      <td>closed</td>\n",
       "      <td>NaN</td>\n",
       "      <td>3</td>\n",
       "    </tr>\n",
       "    <tr>\n",
       "      <th>3</th>\n",
       "      <td>1752498934494</td>\n",
       "      <td>opened</td>\n",
       "      <td>auto</td>\n",
       "      <td>4</td>\n",
       "    </tr>\n",
       "    <tr>\n",
       "      <th>4</th>\n",
       "      <td>1752141991110</td>\n",
       "      <td>closed</td>\n",
       "      <td>NaN</td>\n",
       "      <td>5</td>\n",
       "    </tr>\n",
       "  </tbody>\n",
       "</table>\n",
       "</div>"
      ],
      "text/plain": [
       "       timestamp   event open_type  user_id\n",
       "0  1752250204033  opened    manual        1\n",
       "1  1751836141616  closed       NaN        2\n",
       "2  1752304475081  closed       NaN        3\n",
       "3  1752498934494  opened      auto        4\n",
       "4  1752141991110  closed       NaN        5"
      ]
     },
     "execution_count": 1,
     "metadata": {},
     "output_type": "execute_result"
    }
   ],
   "source": [
    "import pandas as pd\n",
    "import matplotlib.pyplot as plt\n",
    "import numpy as np\n",
    "from scipy import stats\n",
    "\n",
    "df = pd.read_csv('toolwindow_data.csv')\n",
    "\n",
    "df.head()"
   ]
  },
  {
   "cell_type": "markdown",
   "id": "ad352254-daa4-49e7-af92-36701c955e1b",
   "metadata": {},
   "source": [
    "## Dataset Overview\n",
    "\n",
    "The dataset contains logs of tool window usage events, with the following columns:\n",
    "\n",
    "1. **timestamp**: when the event occurred (in epoch milliseconds)  \n",
    "2. **event**: type of event (`open` or `close`)  \n",
    "3. **open_type**: method of opening (`manual` or `auto` for `open` events; `NaN` for `close` events)  \n",
    "4. **user_id**: anonymized user identifier  \n",
    "\n",
    "We will start by inspecting the dataset to understand its **structure**, **time range**, and **distribution of events and open types**.\n"
   ]
  },
  {
   "cell_type": "code",
   "execution_count": 2,
   "id": "01de0fb7-afb9-427b-8c53-7509ff5c7fbe",
   "metadata": {
    "ExecuteTime": {
     "end_time": "2025-10-08T14:46:19.741290Z",
     "start_time": "2025-10-08T14:46:19.504249Z"
    }
   },
   "outputs": [
    {
     "name": "stdout",
     "output_type": "stream",
     "text": [
      "<class 'pandas.core.frame.DataFrame'>\n",
      "RangeIndex: 3503 entries, 0 to 3502\n",
      "Data columns (total 4 columns):\n",
      " #   Column     Non-Null Count  Dtype \n",
      "---  ------     --------------  ----- \n",
      " 0   timestamp  3503 non-null   int64 \n",
      " 1   event      3503 non-null   object\n",
      " 2   open_type  1865 non-null   object\n",
      " 3   user_id    3503 non-null   int64 \n",
      "dtypes: int64(2), object(2)\n",
      "memory usage: 109.6+ KB\n",
      "Date range in dataset: 2025-07-03 21:54:15.846 to 2025-07-23 23:01:03.785\n",
      "\n",
      "Number of unique users: 205\n",
      "\n",
      "Event counts:\n",
      "event\n",
      "opened    1865\n",
      "closed    1638\n",
      "Name: count, dtype: int64\n",
      "\n",
      "Open type counts:\n",
      "open_type\n",
      "auto      1204\n",
      "manual     661\n",
      "Name: count, dtype: int64\n"
     ]
    }
   ],
   "source": [
    "df.info()\n",
    "\n",
    "df[\"datetime\"] = pd.to_datetime(df[\"timestamp\"], unit=\"ms\")\n",
    "\n",
    "\n",
    "print(\"Date range in dataset:\", df[\"datetime\"].min().strftime(\"%Y-%m-%d %H:%M:%S.%f\")[:-3], \"to\", df[\"datetime\"].max().strftime(\"%Y-%m-%d %H:%M:%S.%f\")[:-3])\n",
    "print(\"\\nNumber of unique users:\", df[\"user_id\"].nunique())\n",
    "print(\"\\nEvent counts:\")\n",
    "print(df[\"event\"].value_counts())\n",
    "print(\"\\nOpen type counts:\")\n",
    "print(df[\"open_type\"].value_counts())\n"
   ]
  },
  {
   "cell_type": "markdown",
   "id": "a1f093c5-617b-4d16-9fe2-065e2cbc0e83",
   "metadata": {},
   "source": [
    "## Data Quality Check\n",
    "\n",
    "Before reconstructing tool window sessions, we first examine the **quality and consistency** of the dataset. This step ensures that subsequent analyses are based on reliable data.\n",
    "\n",
    "Specifically, we check:\n",
    "\n",
    "1. **Duplicate rows** – Identify any completely identical rows that might distort counts or durations.  \n",
    "2. **Missing `open_type` in opened events** – Verify that every `open` event has a valid `open_type` (`manual` or `auto`).  \n",
    "3. **Unexpected `open_type` in closed events** – Ensure that `close` events do not have an `open_type`.  \n",
    "4. **User activity patterns** – Inspect the number of events per user and the time span of their activity to understand dataset coverage and detect anomalies.\n"
   ]
  },
  {
   "cell_type": "code",
   "execution_count": 3,
   "id": "70374c1e-24dc-49d0-936c-5edd9ca5c33d",
   "metadata": {
    "ExecuteTime": {
     "end_time": "2025-10-08T14:46:19.970282Z",
     "start_time": "2025-10-08T14:46:19.757694Z"
    }
   },
   "outputs": [
    {
     "name": "stdout",
     "output_type": "stream",
     "text": [
      "Number of duplicate rows: 0\n",
      "Opened events missing open_type: 0\n",
      "Closed events with open_type: 0\n",
      "\n",
      "Average events per user: 17.1\n",
      "Average time span per user: 111.0 hours\n"
     ]
    }
   ],
   "source": [
    "df = df.sort_values(['user_id', 'timestamp']).reset_index(drop=True)\n",
    "\n",
    "duplicate_rows = df[df.duplicated()]\n",
    "print(\"Number of duplicate rows:\", duplicate_rows.shape[0])\n",
    "\n",
    "opened_events = df[df['event'] == 'opened']\n",
    "missing_open_type = opened_events['open_type'].isna().sum()\n",
    "print(f\"Opened events missing open_type: {missing_open_type}\")\n",
    "\n",
    "closed_events = df[df['event'] == 'closed']\n",
    "closed_with_type = closed_events['open_type'].notna().sum()\n",
    "print(f\"Closed events with open_type: {closed_with_type}\")\n",
    "\n",
    "user_event_counts = df.groupby('user_id').agg({\n",
    "    'event': 'count',\n",
    "    'timestamp': lambda x: (x.max() - x.min()) / 1000 / 60 / 60  # hours\n",
    "}).rename(columns={'event': 'total_events', 'timestamp': 'time_span_hours'})\n",
    "\n",
    "print(f\"\\nAverage events per user: {user_event_counts['total_events'].mean():.1f}\")\n",
    "print(f\"Average time span per user: {user_event_counts['time_span_hours'].mean():.1f} hours\")\n"
   ]
  },
  {
   "cell_type": "markdown",
   "id": "a584cc9d-b814-45b9-a8c3-46e80ebb8038",
   "metadata": {},
   "source": [
    "### Checking for Messy Situations\n",
    "\n",
    "Real-world event logs often contain inconsistencies that need to be identified before reconstructing sessions. Common issues include:\n",
    "\n",
    "- **Close events without a prior open** – indicates unmatched `close` events.  \n",
    "- **Multiple open events in a row** – suggests overlapping sessions or missing `close` events.  \n",
    "- **Open events without a matching close at the end of the dataset** – sessions that never closed.  \n",
    "\n",
    "We will count the occurrences of each of these situations to assess the extent of anomalies in the dataset. This helps us handle edge cases properly when reconstructing tool window sessions.\n"
   ]
  },
  {
   "cell_type": "code",
   "execution_count": 4,
   "id": "78909a95-71e4-46ba-8a99-36e5983625f2",
   "metadata": {
    "ExecuteTime": {
     "end_time": "2025-10-08T14:46:20.639161Z",
     "start_time": "2025-10-08T14:46:19.982257Z"
    }
   },
   "outputs": [
    {
     "name": "stdout",
     "output_type": "stream",
     "text": [
      "Messy situations detected:\n",
      "1. Close events without prior open: 8\n",
      "2. Multiple opens in a row: 645\n",
      "3. Opens without a matching close at end: 235\n"
     ]
    }
   ],
   "source": [
    "orphan_closes = 0\n",
    "multiple_opens = 0\n",
    "opens_without_close = 0\n",
    "\n",
    "for user, group in df.groupby(\"user_id\"):\n",
    "    open_count = 0\n",
    "    for idx, row in group.iterrows():\n",
    "        if row[\"event\"] == \"opened\":\n",
    "            if open_count > 0:\n",
    "                multiple_opens += 1\n",
    "            open_count += 1\n",
    "        elif row[\"event\"] == \"closed\":\n",
    "            if open_count == 0:\n",
    "                orphan_closes += 1\n",
    "            else:\n",
    "                open_count -= 1\n",
    "                \n",
    "    if open_count > 0:\n",
    "        opens_without_close += open_count\n",
    "\n",
    "print(\"Messy situations detected:\")\n",
    "print(\"1. Close events without prior open:\", orphan_closes)\n",
    "print(\"2. Multiple opens in a row:\", multiple_opens)\n",
    "print(\"3. Opens without a matching close at end:\", opens_without_close)\n"
   ]
  },
  {
   "cell_type": "markdown",
   "id": "1943aeeb-3e0c-4b0f-bb09-98917a87db81",
   "metadata": {},
   "source": [
    "## Reconstruct Open/Close Sessions\n",
    "\n",
    "Next, we reconstruct **tool window sessions** by pairing each `opened` event with its corresponding `closed` event.\n",
    "\n",
    "### Strategy\n",
    "\n",
    "- Iterate through events **chronologically** for each user.  \n",
    "- Pair each `opened` event with the next `closed` event.  \n",
    "- Handle edge cases:\n",
    "  - **Multiple opens without close**: ignore all but the last open before a close.  \n",
    "  - **Close without open**: ignore these orphan closes.  \n",
    "  - **Open without close**: ignore forgotten sessions.  \n",
    "\n",
    "This approach ensures that session durations are **realistic** and **comparable**, allowing us to directly analyze differences between manually and automatically opened sessions.\n"
   ]
  },
  {
   "cell_type": "code",
   "execution_count": 5,
   "id": "a352c473-cc70-40b3-b820-8443e077e440",
   "metadata": {
    "ExecuteTime": {
     "end_time": "2025-10-08T14:46:21.670692Z",
     "start_time": "2025-10-08T14:46:20.644155Z"
    }
   },
   "outputs": [
    {
     "name": "stdout",
     "output_type": "stream",
     "text": [
      "Total reconstructed sessions: 1622\n",
      "Sessions by open type:\n",
      "open_type\n",
      "auto      988\n",
      "manual    634\n",
      "Name: count, dtype: int64\n"
     ]
    }
   ],
   "source": [
    "def reconstruct_sessions(user_df):\n",
    "    sessions = []\n",
    "    current_open = None\n",
    "    \n",
    "    for idx, row in user_df.iterrows():\n",
    "        if row['event'] == 'opened':\n",
    "            if current_open is None:\n",
    "                current_open = {\n",
    "                    'user_id': row['user_id'],\n",
    "                    'open_timestamp': row['timestamp'],\n",
    "                    'open_type': row['open_type'],\n",
    "                    'open_datetime': row['datetime']\n",
    "                }\n",
    "            \n",
    "        elif row['event'] == 'closed':\n",
    "            if current_open is not None:\n",
    "                # Complete the session\n",
    "                duration_ms = row['timestamp'] - current_open['open_timestamp']\n",
    "                duration_seconds = duration_ms / 1000\n",
    "                \n",
    "                sessions.append({\n",
    "                    'user_id': current_open['user_id'],\n",
    "                    'open_type': current_open['open_type'],\n",
    "                    'open_timestamp': current_open['open_timestamp'],\n",
    "                    'close_timestamp': row['timestamp'],\n",
    "                    'duration_seconds': duration_seconds,\n",
    "                    'open_datetime': current_open['open_datetime'],\n",
    "                    'close_datetime': row['datetime']\n",
    "                })\n",
    "                current_open = None\n",
    "    \n",
    "    return sessions\n",
    "\n",
    "all_sessions = []\n",
    "for user_id, user_df in df.groupby('user_id'):\n",
    "    user_sessions = reconstruct_sessions(user_df)\n",
    "    all_sessions.extend(user_sessions)\n",
    "\n",
    "sessions_df = pd.DataFrame(all_sessions)\n",
    "\n",
    "print(f\"Total reconstructed sessions: {len(sessions_df)}\")\n",
    "print(f\"Sessions by open type:\")\n",
    "print(sessions_df['open_type'].value_counts())\n",
    "\n",
    "\n"
   ]
  },
  {
   "cell_type": "markdown",
   "id": "17e0ddfa-cec4-4b64-8d1a-0ec4d2e11b1d",
   "metadata": {},
   "source": [
    "## Detecting and Removing Outliers\n",
    "\n",
    "Real-world session data can contain **extreme durations** that do not represent typical user behavior:\n",
    "\n",
    "- **Long sessions**: Sessions lasting more than **8 hours** (e.g., IDE left open) are likely anomalies.  \n",
    "- **Very short sessions**: Sessions shorter than **1 second** may result from accidental clicks or mis-logged events.  \n",
    "\n",
    "To ensure our analysis is robust and reliable, we will **remove both types of outliers** before performing visualizations and statistical comparisons.\n"
   ]
  },
  {
   "cell_type": "code",
   "execution_count": 6,
   "id": "18e80eb5-c79a-42d3-ad56-34c505f056b9",
   "metadata": {
    "ExecuteTime": {
     "end_time": "2025-10-08T14:46:21.685373Z",
     "start_time": "2025-10-08T14:46:21.673762Z"
    }
   },
   "outputs": [
    {
     "name": "stdout",
     "output_type": "stream",
     "text": [
      "Number of sessions longer than 8 hours: 107\n",
      "Sessions shorter than 1 second: 71\n"
     ]
    }
   ],
   "source": [
    "sessions_df['duration_days'] = sessions_df['duration_seconds'] / (60*60*24)\n",
    "\n",
    "long_sessions = sessions_df[sessions_df['duration_seconds'] > 8*60*60]\n",
    "print(f\"Number of sessions longer than 8 hours: {len(long_sessions)}\")\n",
    "\n",
    "very_short = sessions_df[sessions_df['duration_seconds'] < 1]\n",
    "print(f\"Sessions shorter than 1 second: {len(very_short)}\")\n"
   ]
  },
  {
   "cell_type": "code",
   "execution_count": 7,
   "id": "214c5151-10f1-40df-ab82-840f558d3823",
   "metadata": {
    "ExecuteTime": {
     "end_time": "2025-10-08T14:46:21.703067Z",
     "start_time": "2025-10-08T14:46:21.687375Z"
    }
   },
   "outputs": [
    {
     "name": "stdout",
     "output_type": "stream",
     "text": [
      "Remaining sessions: 1444\n"
     ]
    }
   ],
   "source": [
    "filtered_sessions = sessions_df[\n",
    "    (sessions_df['duration_seconds'] <= 8*60*60) &\n",
    "    (sessions_df['duration_seconds'] >= 1)\n",
    "].copy()\n",
    "\n",
    "print(f\"Remaining sessions: {len(filtered_sessions)}\")\n"
   ]
  },
  {
   "cell_type": "markdown",
   "id": "ebe0a603-99d4-4525-b9de-8503bf284158",
   "metadata": {},
   "source": [
    "## Session Duration Distribution\n",
    "\n",
    "To understand the characteristics of tool window sessions, we explore their **durations** using both descriptive statistics and visualizations:\n",
    "\n",
    "- **Summary statistics**: Key metrics such as mean, median, standard deviation, and quartiles.  \n",
    "- **Histogram (log scale)**: Displays the distribution of session durations. Since most sessions are short but a few are extremely long, the y-axis is logarithmic to reveal patterns more clearly.  \n",
    "- **Box plot by open type**: Compares session durations between **manual** and **auto** sessions. The log scale on the y-axis reduces the influence of extreme values and highlights differences between groups.\n",
    "\n",
    "### Why Log Transformation?\n",
    "\n",
    "In our dataset, session durations vary from a few seconds to several hours, resulting in a **highly right-skewed distribution**.  \n",
    "Most sessions are very short, while a small number last unusually long — which can distort averages and visualizations.  \n",
    "\n",
    "Applying a **logarithmic transformation (`log(Duration + 1)` add 1 to avoid log(0))** compresses extreme values and makes the distribution more balanced.  \n",
    "This allows for clearer visualizations, more robust statistical testing, and a fairer comparison between **manual** and **automatic** tool window sessions."
   ]
  },
  {
   "cell_type": "code",
   "execution_count": 8,
   "id": "7d1303c2-99ee-4e1c-9d6e-9ff95f413278",
   "metadata": {
    "ExecuteTime": {
     "end_time": "2025-10-08T14:46:22.747869Z",
     "start_time": "2025-10-08T14:46:21.708059Z"
    }
   },
   "outputs": [
    {
     "name": "stdout",
     "output_type": "stream",
     "text": [
      "Log-Transformed Duration Statistics:\n",
      "count    1444.000000\n",
      "mean        4.598283\n",
      "std         2.336483\n",
      "min         0.699626\n",
      "25%         2.634081\n",
      "50%         4.572599\n",
      "75%         6.341975\n",
      "max        10.257013\n",
      "Name: log_duration, dtype: float64\n"
     ]
    },
    {
     "data": {
      "image/png": "[encoded data removed]",
      "text/plain": [
       "<Figure size 1400x500 with 2 Axes>"
      ]
     },
     "metadata": {},
     "output_type": "display_data"
    }
   ],
   "source": [
    "filtered_sessions['log_duration'] = np.log1p(filtered_sessions['duration_seconds'])\n",
    "\n",
    "print(\"Log-Transformed Duration Statistics:\")\n",
    "print(filtered_sessions['log_duration'].describe())\n",
    "\n",
    "manual_sessions = filtered_sessions[filtered_sessions['open_type'] == 'manual']\n",
    "auto_sessions = filtered_sessions[filtered_sessions['open_type'] == 'auto']\n",
    "\n",
    "fig, axes = plt.subplots(1, 2, figsize=(14, 5))\n",
    "\n",
    "# --- Histogram ---\n",
    "axes[0].hist(\n",
    "    [auto_sessions['log_duration'], manual_sessions['log_duration']],\n",
    "    bins=40,\n",
    "    color=['#ff7f0e', '#1f77b4'],\n",
    "    label=['Auto', 'Manual'],\n",
    "    edgecolor='black',\n",
    "    alpha=0.75\n",
    ")\n",
    "axes[0].set_xlabel('log(Duration + 1)')\n",
    "axes[0].set_ylabel('Number of Sessions')\n",
    "axes[0].set_title('Log-Transformed Session Duration Distribution')\n",
    "axes[0].legend()\n",
    "axes[0].grid(alpha=0.3)\n",
    "\n",
    "# --- Boxplot ---\n",
    "axes[1].boxplot(\n",
    "    [auto_sessions['log_duration'], manual_sessions['log_duration']],\n",
    "    tick_labels=['Auto', 'Manual'],\n",
    "    patch_artist=True,\n",
    "    boxprops=dict(facecolor='#e0e0e0', color='black'),\n",
    "    medianprops=dict(color='red', linewidth=2)\n",
    ")\n",
    "axes[1].set_ylabel('log(Duration + 1)')\n",
    "axes[1].set_title('Log-Transformed Duration by Open Type')\n",
    "axes[1].grid(alpha=0.3)\n",
    "\n",
    "plt.suptitle('')\n",
    "plt.tight_layout()\n",
    "plt.show()\n"
   ]
  },
  {
   "cell_type": "markdown",
   "id": "5bcae3d9-5a11-49b0-b1da-83eb152eba40",
   "metadata": {},
   "source": [
    "## Compare Manual vs Auto Opens\n",
    "\n",
    "In this step, we compare the **session durations** between manual and automatic opens. The objectives are:\n",
    "\n",
    "- Compute **summary statistics** (mean, median, standard deviation, quartiles) for both groups.  \n",
    "- Calculate the **differences** in duration between manual and automatic opens.  \n",
    "- Assess statistical significance using:\n",
    "  - **Mann-Whitney U test** (non-parametric) - to determine whether the two distributions differ significantly\n",
    "  - **Hodges-Lehmann estimator** (non-parametric) - to compute a confidence interval for the median difference between manual and auto sessions\n",
    "  - **Welch's t-test** - applied to log-transformed durations to validate findings under approximate normality\n",
    "- Determine **effect size** (rank-biserial correlation) to evaluate practical significance.  \n",
    "\n",
    "This analysis helps identify whether the **method of opening a session** impacts how long it remains open.\n",
    "\n",
    "We will first look at basic descriptive statistics and differences, and then perform **statistical tests** to evaluate significance and effect size.\n"
   ]
  },
  {
   "cell_type": "code",
   "execution_count": 9,
   "id": "38461e1e-db70-4cde-b098-abc5c960c21b",
   "metadata": {
    "ExecuteTime": {
     "end_time": "2025-10-08T14:46:22.785968Z",
     "start_time": "2025-10-08T14:46:22.754856Z"
    }
   },
   "outputs": [
    {
     "name": "stdout",
     "output_type": "stream",
     "text": [
      "\n",
      "Manual Opens (n=547):\n",
      "  Mean: 660.27 seconds\n",
      "  Median: 19.72 seconds\n",
      "  Std Dev: 2586.53 seconds\n",
      "  25th percentile: 4.21 seconds\n",
      "  75th percentile: 179.26 seconds\n",
      "\n",
      "Auto Opens (n=897):\n",
      "  Mean: 1391.14 seconds\n",
      "  Median: 162.69 seconds\n",
      "  Std Dev: 3584.63 seconds\n",
      "  25th percentile: 33.30 seconds\n",
      "  75th percentile: 830.41 seconds\n",
      "\n",
      "Difference:\n",
      "  Mean difference: -730.87 seconds\n",
      "  Median difference: -142.96 seconds\n"
     ]
    }
   ],
   "source": [
    "\n",
    "manual_durations = filtered_sessions[filtered_sessions['open_type'] == 'manual']['duration_seconds']\n",
    "auto_durations = filtered_sessions[filtered_sessions['open_type'] == 'auto']['duration_seconds']\n",
    "\n",
    "\n",
    "print(f\"\\nManual Opens (n={len(manual_durations)}):\")\n",
    "print(f\"  Mean: {manual_durations.mean():.2f} seconds\")\n",
    "print(f\"  Median: {manual_durations.median():.2f} seconds\")\n",
    "print(f\"  Std Dev: {manual_durations.std():.2f} seconds\")\n",
    "print(f\"  25th percentile: {manual_durations.quantile(0.25):.2f} seconds\")\n",
    "print(f\"  75th percentile: {manual_durations.quantile(0.75):.2f} seconds\")\n",
    "\n",
    "print(f\"\\nAuto Opens (n={len(auto_durations)}):\")\n",
    "print(f\"  Mean: {auto_durations.mean():.2f} seconds\")\n",
    "print(f\"  Median: {auto_durations.median():.2f} seconds\")\n",
    "print(f\"  Std Dev: {auto_durations.std():.2f} seconds\")\n",
    "print(f\"  25th percentile: {auto_durations.quantile(0.25):.2f} seconds\")\n",
    "print(f\"  75th percentile: {auto_durations.quantile(0.75):.2f} seconds\")\n",
    "\n",
    "print(f\"\\nDifference:\")\n",
    "print(f\"  Mean difference: {manual_durations.mean() - auto_durations.mean():.2f} seconds\")\n",
    "print(f\"  Median difference: {manual_durations.median() - auto_durations.median():.2f} seconds\")\n"
   ]
  },
  {
   "cell_type": "code",
   "execution_count": 10,
   "id": "fd2b9524-f13e-4e59-bc18-48bc3424db06",
   "metadata": {
    "ExecuteTime": {
     "end_time": "2025-10-08T14:47:32.255455Z",
     "start_time": "2025-10-08T14:46:22.789962Z"
    }
   },
   "outputs": [
    {
     "name": "stdout",
     "output_type": "stream",
     "text": [
      "Hodges–Lehmann typical shift: -79.27 s\n",
      "95% CI (bootstrap): [-105.38, -57.59] s\n",
      "\n",
      "Mann-Whitney U Test:\n",
      "  U-statistic: 146622.50\n",
      "  p-value: 0.0000\n",
      "  Significant at α=0.05: Yes\n",
      "  Effect size (rank-biserial): 0.402\n",
      "\n",
      "Welch's t-test (for reference):\n",
      "  t-statistic: -12.98\n",
      "  p-value: 0.0000\n"
     ]
    }
   ],
   "source": [
    "#Hodges–Lehmann CI\n",
    "def hodges_lehmann_ci(x, y, n_bootstrap=5000, ci=95, seed=42):\n",
    "    rng = np.random.default_rng(seed)\n",
    "    diffs = np.subtract.outer(x, y).ravel()\n",
    "    hl_est = np.median(diffs)\n",
    "    hl_boot = []\n",
    "    for _ in range(n_bootstrap):\n",
    "        bx = rng.choice(x, len(x), replace=True)\n",
    "        by = rng.choice(y, len(y), replace=True)\n",
    "        hl_boot.append(np.median(np.subtract.outer(bx, by).ravel()))\n",
    "    lower = np.percentile(hl_boot, (100 - ci) / 2)\n",
    "    upper = np.percentile(hl_boot, 100 - (100 - ci) / 2)\n",
    "    return hl_est, (lower, upper)\n",
    "\n",
    "hl, hl_ci = hodges_lehmann_ci(manual_durations.to_numpy(), auto_durations.to_numpy())\n",
    "print(f\"Hodges–Lehmann typical shift: {hl:.2f} s\")\n",
    "print(f\"95% CI (bootstrap): [{hl_ci[0]:.2f}, {hl_ci[1]:.2f}] s\")\n",
    "\n",
    "\n",
    "# Mann-Whitney\n",
    "statistic, p_value = stats.mannwhitneyu(manual_durations, auto_durations, alternative='two-sided')\n",
    "print(f\"\\nMann-Whitney U Test:\")\n",
    "print(f\"  U-statistic: {statistic:.2f}\")\n",
    "print(f\"  p-value: {p_value:.4f}\")\n",
    "print(f\"  Significant at α=0.05: {'Yes' if p_value < 0.05 else 'No'}\")\n",
    "\n",
    "n1, n2 = len(manual_durations), len(auto_durations)\n",
    "rank_biserial = 1 - (2*statistic) / (n1 * n2)\n",
    "print(f\"  Effect size (rank-biserial): {rank_biserial:.3f}\")\n",
    "\n",
    "manual_durations = filtered_sessions[filtered_sessions['open_type'] == 'manual']['log_duration']\n",
    "auto_durations = filtered_sessions[filtered_sessions['open_type'] == 'auto']['log_duration']\n",
    "\n",
    "# Welch's t-test\n",
    "t_stat, t_p_value = stats.ttest_ind(manual_durations, auto_durations, equal_var=False)\n",
    "print(f\"\\nWelch's t-test (for reference):\")\n",
    "print(f\"  t-statistic: {t_stat:.2f}\")\n",
    "print(f\"  p-value: {t_p_value:.4f}\")"
   ]
  },
  {
   "cell_type": "markdown",
   "id": "f8693bff-0d98-40fa-82ad-350049d3d575",
   "metadata": {},
   "source": [
    "## Session Duration Visualizations\n",
    "\n",
    "To further explore differences between **manual** and **automatic** sessions, we will use two complementary visualizations:\n",
    "\n",
    "1. **Violin Plot**  \n",
    "   - Shows the full distribution of session durations for each group.  \n",
    "   - Includes mean and median values to highlight central tendencies.  \n",
    "   - Useful for visualizing the shape, spread, and potential multimodality in the data.\n",
    "\n",
    "2. **Cumulative Distribution Function (CDF)**  \n",
    "   - Plots the cumulative probability of session durations.  \n",
    "   - Allows us to compare the proportion of sessions below any given duration between manual and automatic opens.  \n",
    "   - Provides an intuitive view of distribution differences beyond summary statistics.\n",
    "\n",
    "These visualizations help us understand both the **overall distribution** and the **relative behavior** of manual vs automatic sessions.\n"
   ]
  },
  {
   "cell_type": "code",
   "execution_count": 11,
   "id": "9e905c96-d1d3-48d2-88ce-60ae0b13037f",
   "metadata": {
    "ExecuteTime": {
     "end_time": "2025-10-08T14:47:33.137570Z",
     "start_time": "2025-10-08T14:47:32.258934Z"
    },
    "scrolled": true
   },
   "outputs": [
    {
     "data": {
      "image/png": "[encoded data removed]",
      "text/plain": [
       "<Figure size 1400x500 with 2 Axes>"
      ]
     },
     "metadata": {},
     "output_type": "display_data"
    }
   ],
   "source": [
    "fig, axes = plt.subplots(1, 2, figsize=(14, 5))\n",
    "\n",
    "parts = axes[0].violinplot([manual_durations, auto_durations], \n",
    "                           positions=[1, 2], \n",
    "                           showmeans=True, \n",
    "                           showmedians=True)\n",
    "axes[0].set_xticks([1, 2])\n",
    "axes[0].set_xticklabels(['Manual', 'Auto'])\n",
    "axes[0].set_ylabel('Duration (seconds)')\n",
    "axes[0].set_title('Duration Distribution (Violin Plot)')\n",
    "axes[0].grid(alpha=0.3)\n",
    "\n",
    "\n",
    "manual_sorted = np.sort(manual_durations)\n",
    "auto_sorted = np.sort(auto_durations)\n",
    "manual_cdf = np.arange(1, len(manual_sorted) + 1) / len(manual_sorted)\n",
    "auto_cdf = np.arange(1, len(auto_sorted) + 1) / len(auto_sorted)\n",
    "\n",
    "axes[1].plot(manual_sorted, manual_cdf, label='Manual', linewidth=2)\n",
    "axes[1].plot(auto_sorted, auto_cdf, label='Auto', linewidth=2)\n",
    "axes[1].set_xlabel('Duration (seconds)')\n",
    "axes[1].set_ylabel('Cumulative Probability')\n",
    "axes[1].set_title('Cumulative Distribution Function')\n",
    "axes[1].legend()\n",
    "axes[1].grid(alpha=0.3)\n",
    "\n",
    "plt.tight_layout()\n",
    "plt.show()\n"
   ]
  }
 ],
 "metadata": {
  "kernelspec": {
   "display_name": "Python 3 (ipykernel)",
   "language": "python",
   "name": "python3"
  },
  "language_info": {
   "codemirror_mode": {
    "name": "ipython",
    "version": 3
   },
   "file_extension": ".py",
   "mimetype": "text/x-python",
   "name": "python",
   "nbconvert_exporter": "python",
   "pygments_lexer": "ipython3",
   "version": "3.12.6"
  }
 },
 "nbformat": 4,
 "nbformat_minor": 5
}
